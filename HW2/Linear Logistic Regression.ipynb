{
 "cells": [
  {
   "cell_type": "code",
   "execution_count": 1,
   "metadata": {},
   "outputs": [],
   "source": [
    "import numpy as np\n",
    "import pandas\n",
    "import math\n",
    "import matplotlib.pyplot as plt\n",
    "from sklearn.metrics import accuracy_score\n",
    "from sklearn.metrics import recall_score"
   ]
  },
  {
   "cell_type": "code",
   "execution_count": 2,
   "metadata": {},
   "outputs": [],
   "source": [
    "def read_data(file_name):\n",
    "    trainY=[]\n",
    "    trainX=[]\n",
    "    with open(file_name) as f:\n",
    "        temp = f.read().splitlines()\n",
    "    temp = list(filter(None, temp))\n",
    "\n",
    "    for line in temp:\n",
    "        if (len(line))==1:\n",
    "            y=map(int, line)\n",
    "            trainY.append(int(line))\n",
    "        else:\n",
    "            trainX.append(np.array(list(map(int, line))))\n",
    "\n",
    "    trainX=np.array(trainX).flatten()\n",
    "    trainX=trainX.reshape((len(trainY),256))\n",
    "    return trainX,np.array(trainY)\n",
    "\n",
    "def shuffle_dataset(x,y):\n",
    "    \"\"\"\n",
    "    Shuffles two arrays in the same order.\n",
    "    \"\"\"\n",
    "    randomize = np.arange(len(x))\n",
    "    randomize=np.random.shuffle(randomize)\n",
    "    return np.squeeze(x[randomize]),np.squeeze(y[randomize])\n",
    "trainX,trainY=read_data(\"traicom.txt\")\n",
    "testX,testY=read_data(\"testcom.txt\")\n",
    "shape_of_inputs=len(trainX[0])+1 #+1 bias term\n",
    "shape_of_outputs=len(set(trainY))\n"
   ]
  },
  {
   "cell_type": "code",
   "execution_count": 44,
   "metadata": {},
   "outputs": [],
   "source": [
    "weights=np.random.uniform(-0.001,0.001,(shape_of_outputs,shape_of_inputs)) #initialize weights\n",
    "def one_hot_code(y):\n",
    "    \"\"\"\n",
    "    Converts instance or array to one hot code encoding.\n",
    "    e.g. 5->0000010000 (lenght of array is shape of output which is 10 in this case)\n",
    "    \"\"\"\n",
    "    if isinstance(y,list) or isinstance(y,np.ndarray): #if it is a list, iterate over it and return Nx10 array\n",
    "        coded=[]\n",
    "        for instance in y:\n",
    "            a=np.zeros(shape_of_outputs,dtype=int)\n",
    "            a[instance]=1\n",
    "            coded.append(a)\n",
    "        return coded\n",
    "    else: #if its a scalar, return 1x10 array\n",
    "        a=np.zeros(shape_of_outputs,dtype=int)\n",
    "        a[y]=1\n",
    "        return a\n",
    "def predict(testX):\n",
    "    \"\"\"\n",
    "    Predicts given dataset inputs. Returns as class numbers(0,1,2,3) (not one hot codes)\n",
    "    \"\"\"\n",
    "    predictions=[]\n",
    "    for x in testX:\n",
    "        x=np.insert(x,0,1)# +1 bias\n",
    "        y=predict_an_instance(x)\n",
    "        y=np.argmax(y)\n",
    "        predictions.append(y)\n",
    "    return predictions\n",
    "def predict_without_one_hot_code(testX):\n",
    "    predictions=[]\n",
    "    for x in testX:\n",
    "        x=np.insert(x,0,1)# +1 bias\n",
    "        y=predict_an_instance(x)\n",
    "        predictions.append(y)\n",
    "    return predictions\n",
    "def calculate_accuracy(testX,testY):\n",
    "    \"\"\"\n",
    "    Calculates accuracy on given dataset. \n",
    "    \"\"\"\n",
    "    return accuracy_score(testY,predict(testX))\n",
    "def calculate_recall(testX,testY):\n",
    "    \"\"\"\n",
    "    Calculates recall on given dataset.\n",
    "    \"\"\"\n",
    "    return recall_score(testY,predict(testX),average=None)\n",
    "def predict_an_instance(x):            \n",
    "    \"\"\"\n",
    "    Predicts given input instance using global out scope weights 2d matrix and softmax function. \n",
    "    Bias term should be added two instance before calling this function\n",
    "    \"\"\"\n",
    "    o=np.zeros(shape_of_outputs,dtype=np.float64)\n",
    "    for i  in range(shape_of_outputs):\n",
    "        for j in range(shape_of_inputs):\n",
    "             o[i]+=((weights[i][j]*x[j])+weights[i][0])\n",
    "            #o[i]=np.exp(o[i])\n",
    "        y=np.zeros(shape_of_outputs,dtype=np.float64)\n",
    "        \n",
    "    o -= np.max(o) # prevent overflow on taking exponent\n",
    "    y = np.exp(o) / np.sum(np.exp(o)) \n",
    "    return y\n",
    "def cross_entropy(predictions, targets, epsilon=1e-12):\n",
    "    \"\"\"\n",
    "    Computes cross entropy between targets (encoded as one-hot vectors)\n",
    "    \"\"\"\n",
    "    \n",
    "    predictions = np.clip(predictions, epsilon, 1. - epsilon)\n",
    "    N = predictions.shape[0]\n",
    "    ce = -np.sum(np.sum(targets*np.log(predictions+1e-9)))/N\n",
    "    return ce\n",
    "\n",
    "epochs=20\n",
    "learning_rate=0.01"
   ]
  },
  {
   "cell_type": "code",
   "execution_count": 45,
   "metadata": {},
   "outputs": [
    {
     "ename": "KeyboardInterrupt",
     "evalue": "",
     "output_type": "error",
     "traceback": [
      "\u001b[1;31m---------------------------------------------------------------------------\u001b[0m",
      "\u001b[1;31mKeyboardInterrupt\u001b[0m                         Traceback (most recent call last)",
      "\u001b[1;32m<ipython-input-45-cdd8d40be7da>\u001b[0m in \u001b[0;36m<module>\u001b[1;34m()\u001b[0m\n\u001b[0;32m      7\u001b[0m         \u001b[1;32mfor\u001b[0m \u001b[0mi\u001b[0m \u001b[1;32min\u001b[0m \u001b[0mrange\u001b[0m\u001b[1;33m(\u001b[0m\u001b[0mshape_of_outputs\u001b[0m\u001b[1;33m)\u001b[0m\u001b[1;33m:\u001b[0m\u001b[1;33m\u001b[0m\u001b[0m\n\u001b[0;32m      8\u001b[0m             \u001b[1;32mfor\u001b[0m \u001b[0mj\u001b[0m \u001b[1;32min\u001b[0m \u001b[0mrange\u001b[0m\u001b[1;33m(\u001b[0m\u001b[0mshape_of_inputs\u001b[0m\u001b[1;33m)\u001b[0m\u001b[1;33m:\u001b[0m\u001b[1;33m\u001b[0m\u001b[0m\n\u001b[1;32m----> 9\u001b[1;33m                 \u001b[0mweights\u001b[0m\u001b[1;33m[\u001b[0m\u001b[0mi\u001b[0m\u001b[1;33m]\u001b[0m\u001b[1;33m[\u001b[0m\u001b[0mj\u001b[0m\u001b[1;33m]\u001b[0m\u001b[1;33m+=\u001b[0m\u001b[0mlearning_rate\u001b[0m\u001b[1;33m*\u001b[0m\u001b[1;33m(\u001b[0m\u001b[0mone_hot_code\u001b[0m\u001b[1;33m(\u001b[0m\u001b[0mr\u001b[0m\u001b[1;33m)\u001b[0m\u001b[1;33m[\u001b[0m\u001b[0mi\u001b[0m\u001b[1;33m]\u001b[0m\u001b[1;33m-\u001b[0m\u001b[0my\u001b[0m\u001b[1;33m[\u001b[0m\u001b[0mi\u001b[0m\u001b[1;33m]\u001b[0m\u001b[1;33m)\u001b[0m\u001b[1;33m*\u001b[0m\u001b[0mx\u001b[0m\u001b[1;33m[\u001b[0m\u001b[0mj\u001b[0m\u001b[1;33m]\u001b[0m \u001b[1;31m#update weights\u001b[0m\u001b[1;33m\u001b[0m\u001b[0m\n\u001b[0m\u001b[0;32m     10\u001b[0m     \u001b[0macc_batch\u001b[0m\u001b[1;33m=\u001b[0m\u001b[0mcalculate_accuracy\u001b[0m\u001b[1;33m(\u001b[0m\u001b[0mshuffled_X\u001b[0m\u001b[1;33m,\u001b[0m\u001b[0mshuffled_Y\u001b[0m\u001b[1;33m)\u001b[0m\u001b[1;33m\u001b[0m\u001b[0m\n\u001b[0;32m     11\u001b[0m     \u001b[0macc_test\u001b[0m\u001b[1;33m=\u001b[0m\u001b[0mcalculate_accuracy\u001b[0m\u001b[1;33m(\u001b[0m\u001b[0mtestX\u001b[0m\u001b[1;33m,\u001b[0m\u001b[0mtestY\u001b[0m\u001b[1;33m)\u001b[0m\u001b[1;33m\u001b[0m\u001b[0m\n",
      "\u001b[1;32m<ipython-input-44-0adb1dd0de78>\u001b[0m in \u001b[0;36mone_hot_code\u001b[1;34m(y)\u001b[0m\n\u001b[0;32m     13\u001b[0m         \u001b[1;32mreturn\u001b[0m \u001b[0mcoded\u001b[0m\u001b[1;33m\u001b[0m\u001b[0m\n\u001b[0;32m     14\u001b[0m     \u001b[1;32melse\u001b[0m\u001b[1;33m:\u001b[0m \u001b[1;31m#if its a scalar, return 1x10 array\u001b[0m\u001b[1;33m\u001b[0m\u001b[0m\n\u001b[1;32m---> 15\u001b[1;33m         \u001b[0ma\u001b[0m\u001b[1;33m=\u001b[0m\u001b[0mnp\u001b[0m\u001b[1;33m.\u001b[0m\u001b[0mzeros\u001b[0m\u001b[1;33m(\u001b[0m\u001b[0mshape_of_outputs\u001b[0m\u001b[1;33m,\u001b[0m\u001b[0mdtype\u001b[0m\u001b[1;33m=\u001b[0m\u001b[0mint\u001b[0m\u001b[1;33m)\u001b[0m\u001b[1;33m\u001b[0m\u001b[0m\n\u001b[0m\u001b[0;32m     16\u001b[0m         \u001b[0ma\u001b[0m\u001b[1;33m[\u001b[0m\u001b[0my\u001b[0m\u001b[1;33m]\u001b[0m\u001b[1;33m=\u001b[0m\u001b[1;36m1\u001b[0m\u001b[1;33m\u001b[0m\u001b[0m\n\u001b[0;32m     17\u001b[0m         \u001b[1;32mreturn\u001b[0m \u001b[0ma\u001b[0m\u001b[1;33m\u001b[0m\u001b[0m\n",
      "\u001b[1;31mKeyboardInterrupt\u001b[0m: "
     ]
    }
   ],
   "source": [
    "\n",
    "for m in range(epochs):     \n",
    "    shuffled_X,shuffled_Y=shuffle_dataset(trainX,trainY)\n",
    "    for x,r in zip(shuffled_X,shuffled_Y):\n",
    "        x=np.insert(x,0,1)# +1 bias\n",
    "        y=predict_an_instance(x)\n",
    "        for i in range(shape_of_outputs):\n",
    "            for j in range(shape_of_inputs):\n",
    "                weights[i][j]+=learning_rate*(one_hot_code(r)[i]-y[i])*x[j] #update weights            \n",
    "    acc_batch=calculate_accuracy(shuffled_X,shuffled_Y)\n",
    "    acc_test=calculate_accuracy(testX,testY)\n",
    "    recall_batch=calculate_recall(shuffled_X,shuffled_Y)\n",
    "    recall_test=calculate_recall(testX,testY)\n",
    "    ce=cross_entropy(predict_without_one_hot_code(shuffled_X),one_hot_code(shuffled_Y))\n",
    "\n",
    "    print(\"Epoch: \"+str(m+1)+\" Error: \"+str(ce) + \" Training Accuracy: \"+ str(acc_batch) +\" Test Accuracy: \"+ \n",
    "          str(acc_test) +\" UAR Training:\" +str(np.mean(recall_batch))+ \" UAR Test: \"+ str(np.mean(recall_test)))\n",
    "    \n",
    "                    \n",
    "    learning_rate+=0.001\n"
   ]
  },
  {
   "cell_type": "code",
   "execution_count": 19,
   "metadata": {},
   "outputs": [
    {
     "data": {
      "text/plain": [
       "(600, 256)"
      ]
     },
     "execution_count": 19,
     "metadata": {},
     "output_type": "execute_result"
    }
   ],
   "source": [
    "\n",
    "for m in range(epochs):     \n",
    "    shuffled_X,shuffled_Y=shuffle_dataset(trainX,trainY)\n",
    "    batch_X=np.array_split(shuffled_X,20)#20 batch\n",
    "    batch_Y=np.array_split(shuffled_Y,20)\n",
    "    for b_X,b_Y in zip(batch_X,batch_Y):\n",
    "        for x,r in zip(b_X,b_Y):\n",
    "            x=np.insert(x,0,1)# +1 bias\n",
    "            y=predict_an_instance(x)\n",
    "            for i in range(shape_of_outputs):\n",
    "                for j in range(shape_of_inputs):\n",
    "                    weights[i][j]+=learning_rate*(one_hot_code(r)[i]-y[i])*x[j] #update weights            \n",
    "        acc_batch=calculate_accuracy(shuffled_X,shuffled_Y)\n",
    "        acc_test=calculate_accuracy(testX,testY)\n",
    "        recall_batch=calculate_recall(shuffled_X,shuffled_Y)\n",
    "        recall_test=calculate_recall(testX,testY)\n",
    "        ce=cross_entropy(predict_without_one_hot_code(shuffled_X),one_hot_code(shuffled_Y))\n",
    "\n",
    "        print(\"Epoch: \"+str(m+1)+\" Error: \"+str(ce) + \" Training Accuracy: \"+ str(acc_batch) +\" Test Accuracy: \"+ \n",
    "              str(acc_test) +\" UAR Training:\" +str(np.mean(recall_batch))+ \" UAR Test: \"+ str(np.mean(recall_test)))\n",
    "\n",
    "\n",
    "    learning_rate+=0.001\n"
   ]
  },
  {
   "cell_type": "code",
   "execution_count": 14,
   "metadata": {},
   "outputs": [
    {
     "data": {
      "text/plain": [
       "(10, 257)"
      ]
     },
     "execution_count": 14,
     "metadata": {},
     "output_type": "execute_result"
    }
   ],
   "source": [
    "weights.shape"
   ]
  },
  {
   "cell_type": "code",
   "execution_count": 40,
   "metadata": {},
   "outputs": [],
   "source": [
    "predictions=[]\n",
    "for x,r in zip(testX,testY):\n",
    "    x=np.insert(x,0,1)# +1 bias\n",
    "    y=predict(x)\n",
    "    y=np.argmax(y)\n",
    "    predictions.append(y)"
   ]
  },
  {
   "cell_type": "code",
   "execution_count": 47,
   "metadata": {},
   "outputs": [
    {
     "ename": "IndexError",
     "evalue": "arrays used as indices must be of integer (or boolean) type",
     "output_type": "error",
     "traceback": [
      "\u001b[1;31m---------------------------------------------------------------------------\u001b[0m",
      "\u001b[1;31mIndexError\u001b[0m                                Traceback (most recent call last)",
      "\u001b[1;32m<ipython-input-47-b128433ef13f>\u001b[0m in \u001b[0;36m<module>\u001b[1;34m()\u001b[0m\n\u001b[1;32m----> 1\u001b[1;33m \u001b[0maccuracy_score\u001b[0m\u001b[1;33m(\u001b[0m\u001b[0mtestY\u001b[0m\u001b[1;33m,\u001b[0m\u001b[0mone_hot_code\u001b[0m\u001b[1;33m(\u001b[0m\u001b[0mpredictions\u001b[0m\u001b[1;33m)\u001b[0m\u001b[1;33m)\u001b[0m\u001b[1;33m\u001b[0m\u001b[0m\n\u001b[0m",
      "\u001b[1;32m<ipython-input-44-0adb1dd0de78>\u001b[0m in \u001b[0;36mone_hot_code\u001b[1;34m(y)\u001b[0m\n\u001b[0;32m      9\u001b[0m         \u001b[1;32mfor\u001b[0m \u001b[0minstance\u001b[0m \u001b[1;32min\u001b[0m \u001b[0my\u001b[0m\u001b[1;33m:\u001b[0m\u001b[1;33m\u001b[0m\u001b[0m\n\u001b[0;32m     10\u001b[0m             \u001b[0ma\u001b[0m\u001b[1;33m=\u001b[0m\u001b[0mnp\u001b[0m\u001b[1;33m.\u001b[0m\u001b[0mzeros\u001b[0m\u001b[1;33m(\u001b[0m\u001b[0mshape_of_outputs\u001b[0m\u001b[1;33m,\u001b[0m\u001b[0mdtype\u001b[0m\u001b[1;33m=\u001b[0m\u001b[0mint\u001b[0m\u001b[1;33m)\u001b[0m\u001b[1;33m\u001b[0m\u001b[0m\n\u001b[1;32m---> 11\u001b[1;33m             \u001b[0ma\u001b[0m\u001b[1;33m[\u001b[0m\u001b[0minstance\u001b[0m\u001b[1;33m]\u001b[0m\u001b[1;33m=\u001b[0m\u001b[1;36m1\u001b[0m\u001b[1;33m\u001b[0m\u001b[0m\n\u001b[0m\u001b[0;32m     12\u001b[0m             \u001b[0mcoded\u001b[0m\u001b[1;33m.\u001b[0m\u001b[0mappend\u001b[0m\u001b[1;33m(\u001b[0m\u001b[0ma\u001b[0m\u001b[1;33m)\u001b[0m\u001b[1;33m\u001b[0m\u001b[0m\n\u001b[0;32m     13\u001b[0m         \u001b[1;32mreturn\u001b[0m \u001b[0mcoded\u001b[0m\u001b[1;33m\u001b[0m\u001b[0m\n",
      "\u001b[1;31mIndexError\u001b[0m: arrays used as indices must be of integer (or boolean) type"
     ]
    }
   ],
   "source": [
    "accuracy_score(testY,one_hot_code(predictions))"
   ]
  },
  {
   "cell_type": "code",
   "execution_count": 17,
   "metadata": {},
   "outputs": [
    {
     "data": {
      "text/plain": [
       "(600, 256)"
      ]
     },
     "execution_count": 17,
     "metadata": {},
     "output_type": "execute_result"
    }
   ],
   "source": [
    "shuffled_X.shape"
   ]
  },
  {
   "cell_type": "code",
   "execution_count": 27,
   "metadata": {},
   "outputs": [
    {
     "ename": "ValueError",
     "evalue": "operands could not be broadcast together with shapes (600,10) (600,) ",
     "output_type": "error",
     "traceback": [
      "\u001b[1;31m---------------------------------------------------------------------------\u001b[0m",
      "\u001b[1;31mValueError\u001b[0m                                Traceback (most recent call last)",
      "\u001b[1;32m<ipython-input-27-58cab49eee66>\u001b[0m in \u001b[0;36m<module>\u001b[1;34m()\u001b[0m\n\u001b[1;32m----> 1\u001b[1;33m \u001b[0mcross_entropy\u001b[0m\u001b[1;33m(\u001b[0m\u001b[0mpredict\u001b[0m\u001b[1;33m(\u001b[0m\u001b[0mtrainX\u001b[0m\u001b[1;33m)\u001b[0m\u001b[1;33m,\u001b[0m\u001b[0mone_hot_code\u001b[0m\u001b[1;33m(\u001b[0m\u001b[0mtrainY\u001b[0m\u001b[1;33m)\u001b[0m\u001b[1;33m)\u001b[0m\u001b[1;33m\u001b[0m\u001b[0m\n\u001b[0m",
      "\u001b[1;32m<ipython-input-25-e1aacb03242d>\u001b[0m in \u001b[0;36mcross_entropy\u001b[1;34m(predictions, targets, epsilon)\u001b[0m\n\u001b[0;32m     59\u001b[0m     \u001b[0mpredictions\u001b[0m \u001b[1;33m=\u001b[0m \u001b[0mnp\u001b[0m\u001b[1;33m.\u001b[0m\u001b[0mclip\u001b[0m\u001b[1;33m(\u001b[0m\u001b[0mpredictions\u001b[0m\u001b[1;33m,\u001b[0m \u001b[0mepsilon\u001b[0m\u001b[1;33m,\u001b[0m \u001b[1;36m1.\u001b[0m \u001b[1;33m-\u001b[0m \u001b[0mepsilon\u001b[0m\u001b[1;33m)\u001b[0m\u001b[1;33m\u001b[0m\u001b[0m\n\u001b[0;32m     60\u001b[0m     \u001b[0mN\u001b[0m \u001b[1;33m=\u001b[0m \u001b[0mpredictions\u001b[0m\u001b[1;33m.\u001b[0m\u001b[0mshape\u001b[0m\u001b[1;33m[\u001b[0m\u001b[1;36m0\u001b[0m\u001b[1;33m]\u001b[0m\u001b[1;33m\u001b[0m\u001b[0m\n\u001b[1;32m---> 61\u001b[1;33m     \u001b[0mce\u001b[0m \u001b[1;33m=\u001b[0m \u001b[1;33m-\u001b[0m\u001b[0mnp\u001b[0m\u001b[1;33m.\u001b[0m\u001b[0msum\u001b[0m\u001b[1;33m(\u001b[0m\u001b[0mnp\u001b[0m\u001b[1;33m.\u001b[0m\u001b[0msum\u001b[0m\u001b[1;33m(\u001b[0m\u001b[0mtargets\u001b[0m\u001b[1;33m*\u001b[0m\u001b[0mnp\u001b[0m\u001b[1;33m.\u001b[0m\u001b[0mlog\u001b[0m\u001b[1;33m(\u001b[0m\u001b[0mpredictions\u001b[0m\u001b[1;33m+\u001b[0m\u001b[1;36m1e-9\u001b[0m\u001b[1;33m)\u001b[0m\u001b[1;33m)\u001b[0m\u001b[1;33m)\u001b[0m\u001b[1;33m/\u001b[0m\u001b[0mN\u001b[0m\u001b[1;33m\u001b[0m\u001b[0m\n\u001b[0m\u001b[0;32m     62\u001b[0m     \u001b[1;32mreturn\u001b[0m \u001b[0mce\u001b[0m\u001b[1;33m\u001b[0m\u001b[0m\n\u001b[0;32m     63\u001b[0m \u001b[1;33m\u001b[0m\u001b[0m\n",
      "\u001b[1;31mValueError\u001b[0m: operands could not be broadcast together with shapes (600,10) (600,) "
     ]
    }
   ],
   "source": [
    "cross_entropy(predict(trainX),one_hot_code(trainY))"
   ]
  },
  {
   "cell_type": "code",
   "execution_count": 36,
   "metadata": {},
   "outputs": [],
   "source": [
    "epsilon=1e-12\n",
    "predictions = np.clip(predict_without_one_hot_code(trainX), epsilon, 1. - epsilon)\n"
   ]
  },
  {
   "cell_type": "code",
   "execution_count": 39,
   "metadata": {},
   "outputs": [
    {
     "data": {
      "text/plain": [
       "(600, 10)"
      ]
     },
     "execution_count": 39,
     "metadata": {},
     "output_type": "execute_result"
    }
   ],
   "source": [
    "predictions.shape"
   ]
  },
  {
   "cell_type": "code",
   "execution_count": null,
   "metadata": {},
   "outputs": [],
   "source": []
  }
 ],
 "metadata": {
  "kernelspec": {
   "display_name": "Python 3",
   "language": "python",
   "name": "python3"
  },
  "language_info": {
   "codemirror_mode": {
    "name": "ipython",
    "version": 3
   },
   "file_extension": ".py",
   "mimetype": "text/x-python",
   "name": "python",
   "nbconvert_exporter": "python",
   "pygments_lexer": "ipython3",
   "version": "3.6.2"
  }
 },
 "nbformat": 4,
 "nbformat_minor": 2
}
