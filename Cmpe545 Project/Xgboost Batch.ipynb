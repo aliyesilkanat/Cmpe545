{
 "cells": [
  {
   "cell_type": "code",
   "execution_count": 1,
   "metadata": {},
   "outputs": [],
   "source": [
    "import xgboost as xgb\n",
    "import pandas as pd\n",
    "import numpy as np\n",
    "import matplotlib.pyplot as plt\n",
    "from sklearn.metrics import precision_recall_fscore_support,accuracy_score,recall_score,confusion_matrix,precision_score,f1_score\n",
    "import gc\n",
    "\n",
    "def read_features(csv_path_prefix):\n",
    "    train=pd.read_csv(csv_path_prefix+\"train.csv\")\n",
    "    train_X=train.iloc[:,0:len(train.columns)-2]\n",
    "    train_Y=train.Class.values\n",
    "    val=pd.read_csv(csv_path_prefix+\"val.csv\")\n",
    "    val_X=val.iloc[:,0:len(val.columns)-2]\n",
    "    val_Y=val.Class.values\n",
    "    return train_X,val_X,train_Y,val_Y\n",
    "def print_metrics(Y,predictions):\n",
    "    acc=accuracy_score(Y,predictions)\n",
    "    war=recall_score(Y,predictions,average=\"weighted\")\n",
    "    wap=precision_score(Y,predictions,average=\"weighted\")\n",
    "    waf1=f1_score(Y,predictions,average=\"weighted\")\n",
    "    print(\"Accuracy: \",acc)\n",
    "    print(\"Recall: \",war)\n",
    "    print(\"Precision: \",wap)\n",
    "    print(\"F1-Score: \",waf1)\n",
    "    a=confusion_matrix(Y,predictions)\n",
    "    print(\"{0:.2f}\\t{1:.2f}\\t{2:.2f}\\t{3:.2f}\".format(acc*100,war*100,wap*100,waf1*100))\n",
    "    return a\n",
    "\n",
    "\n",
    "\n",
    "# all Y's are same\n",
    "train_30_X,val_30_X,train_30_Y,val_30_Y=read_features(\"features/gru/0.16_0.08/upsample_2layer_256_30_256\")\n",
    "train_45_X,val_45_X,train_45_Y,val_45_Y=read_features(\"features/gru/0.16_0.08/upsample_2layer_256_45_256\")\n",
    "train_65_X,val_65_X,train_65_Y,val_65_Y=read_features(\"features/gru/0.16_0.08/upsample_2layer_256_65_256\")\n",
    "train_70_X,val_70_X,train_70_Y,val_70_Y=read_features(\"features/gru/0.16_0.08/upsample_2layer_256_70_256\")\n",
    "train_75_X,val_75_X,train_75_Y,val_75_Y=read_features(\"features/gru/0.16_0.08/upsample_2layer_256_75_256\")\n",
    "\n",
    "train_80_X,val_80_X,train_80_Y,val_80_Y=read_features(\"features/gru/0.16_0.08/upsample_2layer_256_80_256\")\n",
    "\n",
    "train_85_X,val_85_X,train_85_Y,val_85_Y=read_features(\"features/gru/0.16_0.08/upsample_2layer_256_85_256\")\n",
    "train_90_X,val_90_X,train_90_Y,val_90_Y=read_features(\"features/gru/0.16_0.08/upsample_2layer_256_90_256\")\n",
    "train_95_X,val_95_X,train_95_Y,val_95_Y=read_features(\"features/gru/0.16_0.08/upsample_2layer_256_95_256\")\n",
    "\n",
    "\n",
    "\n",
    "\n",
    "\n",
    "\n",
    "\n"
   ]
  },
  {
   "cell_type": "code",
   "execution_count": 36,
   "metadata": {},
   "outputs": [
    {
     "name": "stdout",
     "output_type": "stream",
     "text": [
      "[0]\ttrain-merror:0.009852\tval-merror:0.5\n",
      "Multiple eval metrics have been passed: 'val-merror' will be used for early stopping.\n",
      "\n",
      "Will train until val-merror hasn't improved in 5 rounds.\n",
      "[1]\ttrain-merror:0.001232\tval-merror:0.472222\n",
      "[2]\ttrain-merror:0.001232\tval-merror:0.505556\n",
      "[3]\ttrain-merror:0\tval-merror:0.494444\n",
      "[4]\ttrain-merror:0\tval-merror:0.488889\n",
      "[5]\ttrain-merror:0\tval-merror:0.466667\n",
      "[6]\ttrain-merror:0\tval-merror:0.466667\n",
      "Accuracy:  0.5333333333333333\n",
      "Recall:  0.5333333333333333\n",
      "Precision:  0.5071382159101457\n",
      "F1-Score:  0.5074346405228759\n",
      "53.33\t53.33\t50.71\t50.74\n"
     ]
    },
    {
     "data": {
      "text/plain": [
       "array([[ 9, 19,  4],\n",
       "       [ 6, 74, 18],\n",
       "       [ 4, 33, 13]], dtype=int64)"
      ]
     },
     "execution_count": 36,
     "metadata": {},
     "output_type": "execute_result"
    }
   ],
   "source": [
    "train_X=np.concatenate((train_30_X,train_65_X,train_75_X,train_85_X,train_95_X),axis=1)\n",
    "val_X=np.concatenate((val_30_X,val_65_X,val_75_X,val_85_X,val_95_X),axis=1)\n",
    "dTrain=xgb.DMatrix(train_X,train_30_Y)\n",
    "dVal=xgb.DMatrix(val_X,val_30_Y)\n",
    "param = {\n",
    "         'learning_rate': 0.2,        \n",
    "          'max_depth':9,\n",
    "\n",
    "         'objective': 'multi:softmax', 'silent': 0,\n",
    "         'num_class':3,\n",
    "#          'tree_method':'gpu_hist',\n",
    "         'eval_metric':'merror',\n",
    "            'min_split_loss':0.1}\n",
    "num_round = 7\n",
    "bst = xgb.train(param, dTrain, num_round,evals=[(dTrain,'train'),(dVal,'val')], early_stopping_rounds=5)\n",
    "\n",
    "print_metrics(val_30_Y,predictions=bst.predict(dVal))\n"
   ]
  },
  {
   "cell_type": "code",
   "execution_count": null,
   "metadata": {},
   "outputs": [],
   "source": [
    "xgb.cv"
   ]
  },
  {
   "cell_type": "code",
   "execution_count": null,
   "metadata": {},
   "outputs": [],
   "source": [
    "bst.best_ntree_limit"
   ]
  },
  {
   "cell_type": "code",
   "execution_count": null,
   "metadata": {},
   "outputs": [],
   "source": []
  }
 ],
 "metadata": {
  "kernelspec": {
   "display_name": "Python 3",
   "language": "python",
   "name": "python3"
  },
  "language_info": {
   "codemirror_mode": {
    "name": "ipython",
    "version": 3
   },
   "file_extension": ".py",
   "mimetype": "text/x-python",
   "name": "python",
   "nbconvert_exporter": "python",
   "pygments_lexer": "ipython3",
   "version": "3.6.3"
  }
 },
 "nbformat": 4,
 "nbformat_minor": 2
}
