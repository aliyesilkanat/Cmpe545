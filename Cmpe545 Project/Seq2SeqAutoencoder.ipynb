{
 "cells": [
  {
   "cell_type": "code",
   "execution_count": null,
   "metadata": {},
   "outputs": [],
   "source": []
  },
  {
   "cell_type": "code",
   "execution_count": 278,
   "metadata": {},
   "outputs": [],
   "source": [
    "import numpy as np\n",
    "np.random.seed(0)\n",
    "from keras.models import load_model\n",
    "from keras.layers import Input, LSTM, RepeatVector,GRU\n",
    "from keras.models import Model\n",
    "from keras.models import Sequential\n",
    "from keras.layers import Dense, Activation\n",
    "from keras.callbacks import EarlyStopping\n",
    "from keras.utils import to_categorical\n",
    "from matplotlib import pyplot as plt\n",
    "from sklearn.metrics import precision_recall_fscore_support,accuracy_score,recall_score,confusion_matrix,precision_score,f1_score\n",
    "\n",
    "import pandas as pd\n",
    "\n",
    "from sklearn.svm import SVC"
   ]
  },
  {
   "cell_type": "code",
   "execution_count": 279,
   "metadata": {},
   "outputs": [],
   "source": [
    "def print_metrics(Y,predictions):\n",
    "    acc=accuracy_score(Y,predictions)\n",
    "    war=recall_score(Y,predictions,average=\"weighted\")\n",
    "    wap=precision_score(Y,predictions,average=\"weighted\")\n",
    "    waf1=f1_score(Y,predictions,average=\"weighted\")\n",
    "    print(\"Accuracy: \",acc)\n",
    "    print(\"Recall: \",war)\n",
    "    print(\"Precision: \",wap)\n",
    "    print(\"F1-Score: \",waf1)\n",
    "    a=confusion_matrix(Y,predictions)\n",
    "    print(\"{0:.2f}\\t{1:.2f}\\t{2:.2f}\\t{3:.2f}\".format(acc*100,war*100,wap*100,waf1*100))\n",
    "    return a\n"
   ]
  },
  {
   "cell_type": "code",
   "execution_count": 334,
   "metadata": {},
   "outputs": [],
   "source": [
    "TRAIN =False\n",
    "SAVE_FEATURES=True\n",
    "CELL_TYPE=\"gru\"\n",
    "timesteps=64\n",
    "latent_dim=16\n",
    "def save_features(file_names,X,Y,csv_file):\n",
    "    df=pd.DataFrame(X)\n",
    "    df[\"files\"]=file_names\n",
    "    df[\"Class\"]=Y\n",
    "    df.to_csv(\"features/\"+csv_file+\".csv\",index=False)\n",
    "    \n",
    "def extract_features(db):\n",
    "    train_db=pd.read_csv(\"spectograms/MeanNormalized/compare18-heartbeat-0.32-0.16-128-\"+db+\".csv/train/compare18-heartbeat-0.32-0.16-128-\"+db+\".csv\")\n",
    "    val_db=pd.read_csv(\"spectograms/MeanNormalized/compare18-heartbeat-0.32-0.16-128-\"+db+\".csv/devel/compare18-heartbeat-0.32-0.16-128-\"+db+\".csv\")\n",
    "    class0=train_db[train_db[\"label_nominal\"]==0]\n",
    "    class1=train_db[train_db[\"label_nominal\"]==1]\n",
    "    class2=train_db[train_db[\"label_nominal\"]==2]\n",
    "    \n",
    " \n",
    "    train_upsampled=pd.concat((class0,class0,class0,class1,class2,class2))\n",
    "    train_upsampled=train_upsampled.reindex()\n",
    "    train_Y=train_upsampled.label_nominal\n",
    "    val_Y=val_db.label_nominal\n",
    "    train_X=train_upsampled.iloc[:,4:]\n",
    "    val_X=val_db.iloc[:,4:]\n",
    "    \n",
    "\n",
    "    \n",
    "    train_X=train_X.values.flatten().reshape(len(train_X),timesteps,372) #502,64,372\n",
    "    input_dim=train_X.shape[2]\n",
    "    \n",
    "    inputs = Input(shape=(timesteps, input_dim))\n",
    "    encoded = LSTM(latent_dim)(inputs)\n",
    "\n",
    "    decoded = RepeatVector(timesteps)(encoded)\n",
    "    decoded = LSTM(input_dim, return_sequences=True)(decoded)\n",
    "\n",
    "    sequence_autoencoder = Model(inputs, decoded)\n",
    "    \n",
    "    encoder = Model(inputs, encoded) #hidden representations \n",
    "    if TRAIN:\n",
    "\n",
    "\n",
    "        sequence_autoencoder.compile(optimizer='adam', loss='mse')\n",
    "        early_stop = EarlyStopping(monitor='loss', patience=5, verbose=1)\n",
    "        sequence_autoencoder.fit(train_X,train_X,batch_size=32,epochs=150,callbacks=[early_stop])\n",
    "        sequence_autoencoder.save(\"models/upsample/\"+CELL_TYPE+\"/autoencoder_2layer_\"+str(timesteps)+\"_\"+db+\"_\"+str(latent_dim)+\".model\")\n",
    "\n",
    "    else :\n",
    "        sequence_autoencoder=load_model(\"models/upsample/\"+CELL_TYPE+\"/autoencoder_2layer_\"+str(timesteps)+\"_\"+db+\"_\"+str(latent_dim)+\".model\")\n",
    "    features_train_X=encoder.predict(train_X)\n",
    "    features_val_X=encoder.predict(val_X.values.reshape(len(val_X),timesteps,372))\n",
    "    if SAVE_FEATURES:\n",
    "        save_features(train_upsampled.filename.values,features_train_X,train_Y.values,CELL_TYPE+\"/upsample_2layer_\"+str(timesteps)+\"_\"+db+\"_\"+str(latent_dim)+\"train\")\n",
    "        save_features(val_db.filename.values,features_val_X,val_Y.values,CELL_TYPE+\"/upsample_2layer_\"+str(timesteps)+\"_\"+db+\"_\"+str(latent_dim)+\"val\")\n",
    "    return features_train_X,features_val_X,train_Y,val_Y"
   ]
  },
  {
   "cell_type": "code",
   "execution_count": 335,
   "metadata": {},
   "outputs": [],
   "source": [
    "train_75_X,val_75_X,train_75_Y,val_75_Y=extract_features(\"75\")\n",
    "train_60_X,val_60_X,train_60_Y,val_60_Y=extract_features(\"60\")\n",
    "train_45_X,val_45_X,train_45_Y,val_45_Y=extract_features(\"45\")\n",
    "train_30_X,val_30_X,train_30_Y,val_30_Y=extract_features(\"30\")\n",
    "# all Y's are same\n",
    "\n"
   ]
  },
  {
   "cell_type": "code",
   "execution_count": null,
   "metadata": {},
   "outputs": [],
   "source": []
  },
  {
   "cell_type": "code",
   "execution_count": 312,
   "metadata": {},
   "outputs": [],
   "source": [
    "\n",
    "train_X=np.concatenate((train_30_X,train_45_X,train_60_X,train_75_X),axis=1)\n",
    "val_X=np.concatenate((val_30_X,val_45_X,val_60_X,val_75_X),axis=1)"
   ]
  },
  {
   "cell_type": "code",
   "execution_count": 313,
   "metadata": {},
   "outputs": [
    {
     "data": {
      "text/plain": [
       "(812, 3)"
      ]
     },
     "execution_count": 313,
     "metadata": {},
     "output_type": "execute_result"
    }
   ],
   "source": [
    "train_Y.shape"
   ]
  },
  {
   "cell_type": "code",
   "execution_count": 314,
   "metadata": {},
   "outputs": [
    {
     "name": "stdout",
     "output_type": "stream",
     "text": [
      "Train on 812 samples, validate on 180 samples\n",
      "Epoch 1/50\n",
      "812/812 [==============================] - 9s 11ms/step - loss: 1.1607 - acc: 0.3214 - val_loss: 1.1459 - val_acc: 0.3667\n",
      "Epoch 2/50\n",
      "812/812 [==============================] - 1s 701us/step - loss: 1.0892 - acc: 0.2660 - val_loss: 1.0896 - val_acc: 0.2167\n",
      "Epoch 3/50\n",
      "812/812 [==============================] - 1s 766us/step - loss: 1.1425 - acc: 0.2771 - val_loss: 1.3233 - val_acc: 0.2056\n",
      "Epoch 4/50\n",
      "812/812 [==============================] - 1s 784us/step - loss: 1.1042 - acc: 0.3030 - val_loss: 1.5755 - val_acc: 0.3444\n",
      "Epoch 00004: early stopping\n",
      "Accuracy:  0.34444444444444444\n",
      "Recall:  0.34444444444444444\n",
      "Precision:  0.3165403409406408\n",
      "F1-Score:  0.31966091699837834\n",
      "34.44\t34.44\t31.65\t31.97\n"
     ]
    },
    {
     "data": {
      "text/plain": [
       "array([[13, 19,  0],\n",
       "       [48, 49,  1],\n",
       "       [26, 24,  0]], dtype=int64)"
      ]
     },
     "execution_count": 314,
     "metadata": {},
     "output_type": "execute_result"
    }
   ],
   "source": [
    "\n",
    "model = Sequential()\n",
    "model.add(Dense(64, input_dim=4*latent_dim,activation=\"relu\"))\n",
    "model.add(Dense(64, activation=\"relu\"))\n",
    "\n",
    "model.add(Dense(3))\n",
    "model.compile(optimizer='adam',\n",
    "              loss='categorical_crossentropy',\n",
    "              metrics=['accuracy'])\n",
    "train_Y=to_categorical(train_75_Y)\n",
    "val_Y=to_categorical(val_30_Y)\n",
    "early_stop = EarlyStopping(monitor='val_loss', patience=2, verbose=1)\n",
    "model.fit(train_X,train_Y,batch_size=8,epochs=50,validation_data=(val_X, val_Y),callbacks=[early_stop])\n",
    "\n",
    "predictions=np.argmax(model.predict(val_X),axis=1)\n",
    "print_metrics(val_30_Y,predictions)"
   ]
  },
  {
   "cell_type": "code",
   "execution_count": 315,
   "metadata": {},
   "outputs": [
    {
     "name": "stdout",
     "output_type": "stream",
     "text": [
      "Train on 812 samples, validate on 180 samples\n",
      "Epoch 1/50\n",
      "812/812 [==============================] - 9s 11ms/step - loss: 1.6417 - acc: 0.3091 - val_loss: 1.1209 - val_acc: 0.2389\n",
      "Epoch 2/50\n",
      "812/812 [==============================] - 1s 692us/step - loss: 1.1271 - acc: 0.2980 - val_loss: 1.3852 - val_acc: 0.2278\n",
      "Epoch 3/50\n",
      "812/812 [==============================] - 1s 697us/step - loss: 1.1204 - acc: 0.2796 - val_loss: 1.3981 - val_acc: 0.2111\n",
      "Epoch 00003: early stopping\n",
      "Accuracy:  0.2111111111111111\n",
      "Recall:  0.2111111111111111\n",
      "Precision:  0.34364811765423386\n",
      "F1-Score:  0.2075288885677933\n",
      "21.11\t21.11\t34.36\t20.75\n"
     ]
    },
    {
     "data": {
      "text/plain": [
       "array([[15,  8,  9],\n",
       "       [61, 12, 25],\n",
       "       [33,  6, 11]], dtype=int64)"
      ]
     },
     "execution_count": 315,
     "metadata": {},
     "output_type": "execute_result"
    }
   ],
   "source": [
    "\n",
    "model = Sequential()\n",
    "model.add(Dense(32, input_dim=latent_dim,activation=\"relu\"))\n",
    "model.add(Dense(32, input_dim=latent_dim,activation=\"relu\"))\n",
    "\n",
    "model.add(Dense(3))\n",
    "model.compile(optimizer='adam',\n",
    "              loss='categorical_crossentropy',\n",
    "              metrics=['accuracy'])\n",
    "train_Y=to_categorical(train_75_Y)\n",
    "val_Y=to_categorical(val_75_Y)\n",
    "early_stop = EarlyStopping(monitor='val_loss', patience=2, verbose=1)\n",
    "model.fit(train_75_X,train_Y,batch_size=8,epochs=50,validation_data=(val_75_X, val_Y),callbacks=[early_stop])\n",
    "\n",
    "predictions=np.argmax(model.predict(val_75_X),axis=1)\n",
    "print_metrics(val_30_Y,predictions)"
   ]
  },
  {
   "cell_type": "code",
   "execution_count": 316,
   "metadata": {},
   "outputs": [
    {
     "name": "stdout",
     "output_type": "stream",
     "text": [
      "Accuracy:  0.2111111111111111\n",
      "Recall:  0.2111111111111111\n",
      "Precision:  0.34364811765423386\n",
      "F1-Score:  0.2075288885677933\n",
      "21.11\t21.11\t34.36\t20.75\n"
     ]
    },
    {
     "data": {
      "text/plain": [
       "array([[15,  8,  9],\n",
       "       [61, 12, 25],\n",
       "       [33,  6, 11]], dtype=int64)"
      ]
     },
     "execution_count": 316,
     "metadata": {},
     "output_type": "execute_result"
    }
   ],
   "source": [
    "print_metrics(val_30_Y,predictions)"
   ]
  },
  {
   "cell_type": "code",
   "execution_count": 317,
   "metadata": {},
   "outputs": [
    {
     "data": {
      "text/plain": [
       "(812, 16)"
      ]
     },
     "execution_count": 317,
     "metadata": {},
     "output_type": "execute_result"
    }
   ],
   "source": [
    "train_60_X.shape"
   ]
  },
  {
   "cell_type": "code",
   "execution_count": 332,
   "metadata": {},
   "outputs": [
    {
     "name": "stdout",
     "output_type": "stream",
     "text": [
      "Accuracy:  0.37222222222222223\n",
      "Recall:  0.37222222222222223\n",
      "Precision:  0.40960219478737997\n",
      "F1-Score:  0.3810541262212169\n",
      "37.22\t37.22\t40.96\t38.11\n"
     ]
    },
    {
     "data": {
      "text/plain": [
       "array([[ 5, 10, 17],\n",
       "       [10, 43, 45],\n",
       "       [ 7, 24, 19]], dtype=int64)"
      ]
     },
     "execution_count": 332,
     "metadata": {},
     "output_type": "execute_result"
    }
   ],
   "source": [
    "\n",
    "svm_model=SVC(C=10,kernel=\"rbf\")\n",
    "svm_model.fit(train_X,train_30_Y)\n",
    "predictions=svm_model.predict(val_X)\n",
    "accuracy_score\n",
    "print_metrics(val_30_Y,predictions)"
   ]
  },
  {
   "cell_type": "code",
   "execution_count": 329,
   "metadata": {},
   "outputs": [
    {
     "name": "stdout",
     "output_type": "stream",
     "text": [
      "Accuracy:  0.4166666666666667\n",
      "Recall:  0.4166666666666667\n",
      "Precision:  0.4044160411171975\n",
      "F1-Score:  0.402895552160258\n",
      "41.67\t41.67\t40.44\t40.29\n"
     ]
    },
    {
     "data": {
      "text/plain": [
       "array([[ 3, 19, 10],\n",
       "       [ 4, 57, 37],\n",
       "       [ 5, 30, 15]], dtype=int64)"
      ]
     },
     "execution_count": 329,
     "metadata": {},
     "output_type": "execute_result"
    }
   ],
   "source": [
    "\n",
    "svm_model=SVC(C=10,kernel=\"rbf\")\n",
    "svm_model.fit(train_75_X,train_75_Y)\n",
    "predictions=svm_model.predict(val_75_X)\n",
    "accuracy_score\n",
    "print_metrics(val_30_Y,predictions)"
   ]
  },
  {
   "cell_type": "code",
   "execution_count": 320,
   "metadata": {},
   "outputs": [
    {
     "data": {
      "image/png": "[encoded data removed]",
      "text/plain": [
       "<matplotlib.figure.Figure at 0x1ac18e31a20>"
      ]
     },
     "metadata": {},
     "output_type": "display_data"
    }
   ],
   "source": [
    "train_30_Y.hist()\n",
    "plt.show()"
   ]
  },
  {
   "cell_type": "code",
   "execution_count": null,
   "metadata": {},
   "outputs": [],
   "source": []
  }
 ],
 "metadata": {
  "kernelspec": {
   "display_name": "Python 3",
   "language": "python",
   "name": "python3"
  },
  "language_info": {
   "codemirror_mode": {
    "name": "ipython",
    "version": 3
   },
   "file_extension": ".py",
   "mimetype": "text/x-python",
   "name": "python",
   "nbconvert_exporter": "python",
   "pygments_lexer": "ipython3",
   "version": "3.6.3"
  }
 },
 "nbformat": 4,
 "nbformat_minor": 2
}
