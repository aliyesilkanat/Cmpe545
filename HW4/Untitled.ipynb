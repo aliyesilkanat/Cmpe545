{
 "cells": [
  {
   "cell_type": "code",
   "execution_count": 29,
   "metadata": {},
   "outputs": [],
   "source": [
    "from scipy import *\n",
    "from scipy.linalg import norm, pinv\n",
    "import pandas as pd\n",
    "\n",
    "from matplotlib import pyplot as plt\n",
    "SIZE_TRAIN=40\n",
    "SIZE_VAL=30\n",
    "SIZE_TEST=30\n",
    " \n",
    "class RBF:\n",
    "     \n",
    "    def __init__(self, indim, numCenters, outdim):\n",
    "        self.indim = indim\n",
    "        self.outdim = outdim\n",
    "        self.numCenters = numCenters\n",
    "        self.centers = [random.uniform(-1, 1, indim) for i in range(numCenters)]\n",
    "        self.beta = 8\n",
    "        self.W = random.random((self.numCenters, self.outdim))\n",
    "         \n",
    "    def _basisfunc(self, c, d):\n",
    "        assert len(d) == self.indim\n",
    "        return exp(-self.beta * norm(c-d)**2)\n",
    "     \n",
    "    def _calcAct(self, X):\n",
    "        # calculate activations of RBFs\n",
    "        G = zeros((X.shape[0], self.numCenters), float)\n",
    "        for ci, c in enumerate(self.centers):\n",
    "            for xi, x in enumerate(X):\n",
    "                G[xi,ci] = self._basisfunc(c, x)\n",
    "        return G\n",
    "     \n",
    "    def train(self, X, Y):\n",
    "        \"\"\" X: matrix of dimensions n x indim \n",
    "            y: column vector of dimension n x 1 \"\"\"\n",
    "         \n",
    "        # choose random center vectors from training set\n",
    "        rnd_idx = random.permutation(X.shape[0])[:self.numCenters]\n",
    "        self.centers = [X[i,:] for i in rnd_idx]\n",
    "         \n",
    "        # calculate activations of RBFs\n",
    "        G = self._calcAct(X)\n",
    "         \n",
    "        # calculate output weights (pseudoinverse)\n",
    "        self.W = dot(pinv(G), Y)\n",
    "         \n",
    "    def test(self, X):\n",
    "        \"\"\" X: matrix of dimensions n x indim \"\"\"\n",
    "         \n",
    "        G = self._calcAct(X)\n",
    "        Y = dot(G, self.W)\n",
    "        return Y\n",
    "def read_data(file_name):\n",
    "    df=pd.read_csv(\"data.txt\",sep=\"  \",names=[\"X\",\"y\"],engine=\"python\")\n",
    "    X=df.X.values\n",
    "    y=df.y.values \n",
    "def read_data(file_name):\n",
    "    df=pd.read_csv(\"data.txt\",sep=\"  \",names=[\"X\",\"y\"],engine=\"python\")\n",
    "    X=df.X.values\n",
    "    y=df.y.values\n",
    "    return X[0:SIZE_TRAIN],y[0:SIZE_TRAIN],X[SIZE_TRAIN:SIZE_VAL+SIZE_TRAIN],y[SIZE_TRAIN:SIZE_VAL+SIZE_TRAIN],X[-SIZE_TEST:],y[-SIZE_TEST:]      "
   ]
  },
  {
   "cell_type": "code",
   "execution_count": 30,
   "metadata": {},
   "outputs": [],
   "source": [
    "X_train,y_train,X_val,y_val,X_test,y_test=read_data(\"data.txt\")\n",
    "\n",
    "# ----- 1D Example ------------------------------------------------\n",
    "n = 100\n",
    "\n",
    "x = mgrid[-1:1:complex(0,n)].reshape(n, 1)\n",
    "x.shape\n",
    "y = sin(3*(x+0.5)**3 - 1)\n",
    "y.shape\n",
    "x=X_train\n",
    "y=y_train\n",
    "n=len(x)\n",
    "x=X_train.reshape(len(X_train),1)\n",
    "y=y_train.reshape(len(X_train),1)"
   ]
  },
  {
   "cell_type": "code",
   "execution_count": 41,
   "metadata": {},
   "outputs": [
    {
     "data": {
      "image/png": "[encoded data removed]",
      "text/plain": [
       "<matplotlib.figure.Figure at 0x1a51efc1eb8>"
      ]
     },
     "metadata": {},
     "output_type": "display_data"
    }
   ],
   "source": [
    "\n",
    "# set y and add random noise\n",
    "# y += random.normal(0, 0.1, y.shape)\n",
    "\n",
    "# rbf regression\n",
    "rbf = RBF(1, 5, 1)\n",
    "rbf.train(x, y)\n",
    "z = rbf.test(x)\n",
    "\n",
    "# plot original data\n",
    "plt.figure(figsize=(12, 8))\n",
    "plt.scatter(x, y)\n",
    "\n",
    "# plot learned model\n",
    "plt.scatter(x, z)\n",
    "\n",
    "# plot rbfs\n",
    "plt.plot(rbf.centers, zeros(rbf.numCenters), 'gs')\n",
    "\n",
    "for c in rbf.centers:\n",
    "    # RF prediction lines\n",
    "    cx = arange(c-0.7, c+0.7, 0.01)\n",
    "    cy = [rbf._basisfunc(array([cx_]), array([c])) for cx_ in cx]\n",
    "    plt.scatter(cx, cy)\n",
    "\n",
    "plt.show()"
   ]
  },
  {
   "cell_type": "code",
   "execution_count": null,
   "metadata": {},
   "outputs": [],
   "source": []
  },
  {
   "cell_type": "code",
   "execution_count": null,
   "metadata": {},
   "outputs": [],
   "source": []
  }
 ],
 "metadata": {
  "kernelspec": {
   "display_name": "Python 3",
   "language": "python",
   "name": "python3"
  },
  "language_info": {
   "codemirror_mode": {
    "name": "ipython",
    "version": 3
   },
   "file_extension": ".py",
   "mimetype": "text/x-python",
   "name": "python",
   "nbconvert_exporter": "python",
   "pygments_lexer": "ipython3",
   "version": "3.6.2"
  }
 },
 "nbformat": 4,
 "nbformat_minor": 2
}
